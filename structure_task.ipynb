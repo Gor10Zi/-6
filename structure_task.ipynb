{
  "nbformat": 4,
  "nbformat_minor": 0,
  "metadata": {
    "colab": {
      "provenance": [],
      "authorship_tag": "ABX9TyPGkIREc8wqYY7sCm9K0Igq",
      "include_colab_link": true
    },
    "kernelspec": {
      "name": "python3",
      "display_name": "Python 3"
    },
    "language_info": {
      "name": "python"
    }
  },
  "cells": [
    {
      "cell_type": "markdown",
      "metadata": {
        "id": "view-in-github",
        "colab_type": "text"
      },
      "source": [
        "<a href=\"https://colab.research.google.com/github/Gor10Zi/-6/blob/main/structure_task.ipynb\" target=\"_parent\"><img src=\"https://colab.research.google.com/assets/colab-badge.svg\" alt=\"Open In Colab\"/></a>"
      ]
    },
    {
      "cell_type": "markdown",
      "source": [
        "Структура містить такі поля: ПІП студента, курс, номер групи, стипендія.\n",
        "Вивести на екран всіх тих студентів, які не отримують стипендію.\n"
      ],
      "metadata": {
        "id": "YVY5ymVwIfyL"
      }
    },
    {
      "cell_type": "code",
      "execution_count": 1,
      "metadata": {
        "colab": {
          "base_uri": "https://localhost:8080/"
        },
        "id": "LkrEyzEUH9wL",
        "outputId": "9f734245-c229-45b7-c969-801435a8f948"
      },
      "outputs": [
        {
          "output_type": "stream",
          "name": "stdout",
          "text": [
            "Студенти без стипендії (dict):\n",
            "Петренко Петро Петрович\n",
            "Сидоренко Сидір Сидорович\n"
          ]
        }
      ],
      "source": [
        "students_dict = [\n",
        "    {\"ПІП\": \"Іваненко Іван Іванович\", \"курс\": 1, \"група\": 101, \"стипендія\": 1200},\n",
        "    {\"ПІП\": \"Петренко Петро Петрович\", \"курс\": 2, \"група\": 202, \"стипендія\": 0},\n",
        "    {\"ПІП\": \"Сидоренко Сидір Сидорович\", \"курс\": 3, \"група\": 303, \"стипендія\": 0},\n",
        "    {\"ПІП\": \"Ковальчук Марія Василівна\", \"курс\": 4, \"група\": 404, \"стипендія\": 1500},\n",
        "]\n",
        "\n",
        "print(\"Студенти без стипендії (dict):\")\n",
        "for student in students_dict:\n",
        "    if student[\"стипендія\"] == 0:\n",
        "        print(student[\"ПІП\"])\n"
      ]
    },
    {
      "cell_type": "code",
      "source": [
        "class Student:\n",
        "    def __init__(self, pip, kurs, grupa, stipendiya):\n",
        "        self.pip = pip\n",
        "        self.kurs = kurs\n",
        "        self.grupa = grupa\n",
        "        self.stipendiya = stipendiya\n",
        "\n",
        "students_class = [\n",
        "    Student(\"Іваненко Іван Іванович\", 1, 101, 1200),\n",
        "    Student(\"Петренко Петро Петрович\", 2, 202, 0),\n",
        "    Student(\"Сидоренко Сидір Сидорович\", 3, 303, 0),\n",
        "    Student(\"Ковальчук Марія Василівна\", 4, 404, 1500),\n",
        "]\n",
        "\n",
        "print(\"\\nСтуденти без стипендії (class):\")\n",
        "for student in students_class:\n",
        "    if student.stipendiya == 0:\n",
        "        print(student.pip)\n"
      ],
      "metadata": {
        "colab": {
          "base_uri": "https://localhost:8080/"
        },
        "id": "eB36HHBhIBac",
        "outputId": "db6ab523-eaed-4fcf-d952-4b8acc4f8065"
      },
      "execution_count": 2,
      "outputs": [
        {
          "output_type": "stream",
          "name": "stdout",
          "text": [
            "\n",
            "Студенти без стипендії (class):\n",
            "Петренко Петро Петрович\n",
            "Сидоренко Сидір Сидорович\n"
          ]
        }
      ]
    }
  ]
}